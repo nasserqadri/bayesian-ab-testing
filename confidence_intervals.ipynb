{
 "cells": [
  {
   "attachments": {},
   "cell_type": "markdown",
   "metadata": {},
   "source": [
    "# Confidence intervals"
   ]
  },
  {
   "cell_type": "code",
   "execution_count": 1,
   "metadata": {},
   "outputs": [],
   "source": [
    "import numpy as np\n",
    "from scipy.stats import norm, t"
   ]
  },
  {
   "cell_type": "code",
   "execution_count": 10,
   "metadata": {},
   "outputs": [],
   "source": [
    "# generate data\n",
    "np.random.seed(42)\n",
    "\n",
    "N=1000\n",
    "mu=5\n",
    "sigma = 2\n",
    "X = np.random.randn(N)*sigma+mu"
   ]
  },
  {
   "cell_type": "code",
   "execution_count": 11,
   "metadata": {},
   "outputs": [
    {
     "name": "stdout",
     "output_type": "stream",
     "text": [
      "5.0386641116446516 4.917281476837209 5.160046746452094\n"
     ]
    }
   ],
   "source": [
    "# Z-confidence interval\n",
    "mu_hat = np.mean(X)\n",
    "sigma_hat = np.std(X, ddof=1)\n",
    "\n",
    "z_left = norm.ppf(0.025)\n",
    "z_right = norm.ppf(0.975)\n",
    "\n",
    "z_lower = mu_hat + z_left * sigma_hat / np.sqrt(N)\n",
    "z_upper = mu_hat + z_right * sigma_hat / np.sqrt(N)\n",
    "\n",
    "print(mu_hat, z_lower, z_upper)"
   ]
  },
  {
   "cell_type": "code",
   "execution_count": 13,
   "metadata": {},
   "outputs": [
    {
     "name": "stdout",
     "output_type": "stream",
     "text": [
      "5.0386641116446516 4.917134237206596 5.1601939860827075\n"
     ]
    }
   ],
   "source": [
    "# t-confidence interval\n",
    "t_left = t.ppf(0.025, df=N-1)\n",
    "t_right = t.ppf(0.975, df=N-1)\n",
    "t_lower = mu_hat+t_left * sigma_hat / np.sqrt(N)\n",
    "t_upper = mu_hat+t_right * sigma_hat / np.sqrt(N)\n",
    "print(mu_hat, t_lower, t_upper)"
   ]
  },
  {
   "attachments": {},
   "cell_type": "markdown",
   "metadata": {},
   "source": [
    "### Interpreptation of confidence interval\n",
    "If we do this experiment many times, then for the 95% CI, the 95%CI should contain the true value 95% of the time"
   ]
  },
  {
   "cell_type": "code",
   "execution_count": 28,
   "metadata": {},
   "outputs": [],
   "source": [
    "def experiment():\n",
    "    X = np.random.randn(N)*sigma + mu\n",
    "    mu_hat = np.mean(X)\n",
    "    sigma_hat = np.std(X, ddof=1)\n",
    "    t_left = t.ppf(0.025, df=N-1)\n",
    "    t_right = t.ppf(0.975, df=N-1)\n",
    "    lower = mu_hat + t_left * sigma_hat / np.sqrt(N)\n",
    "    upper = mu_hat + t_right * sigma_hat/ np.sqrt(N)\n",
    "\n",
    "    return mu > lower and mu < upper\n",
    "\n",
    "def multi_experiment(M):\n",
    "    results = [experiment() for _ in range(M)]\n",
    "    return np.mean(results)"
   ]
  },
  {
   "cell_type": "code",
   "execution_count": 31,
   "metadata": {},
   "outputs": [
    {
     "data": {
      "text/plain": [
       "0.946"
      ]
     },
     "execution_count": 31,
     "metadata": {},
     "output_type": "execute_result"
    }
   ],
   "source": [
    "multi_experiment(10000)"
   ]
  }
 ],
 "metadata": {
  "kernelspec": {
   "display_name": "udemy-bayesian-ml",
   "language": "python",
   "name": "python3"
  },
  "language_info": {
   "codemirror_mode": {
    "name": "ipython",
    "version": 3
   },
   "file_extension": ".py",
   "mimetype": "text/x-python",
   "name": "python",
   "nbconvert_exporter": "python",
   "pygments_lexer": "ipython3",
   "version": "3.11.2"
  },
  "orig_nbformat": 4
 },
 "nbformat": 4,
 "nbformat_minor": 2
}
