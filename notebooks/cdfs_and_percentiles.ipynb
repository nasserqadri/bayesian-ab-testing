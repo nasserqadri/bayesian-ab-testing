{
 "cells": [
  {
   "attachments": {},
   "cell_type": "markdown",
   "metadata": {},
   "source": [
    "### CDF and percentile review"
   ]
  },
  {
   "cell_type": "code",
   "execution_count": 23,
   "metadata": {},
   "outputs": [],
   "source": [
    "import numpy as np\n",
    "import matplotlib.pyplot as plt\n",
    "from scipy.stats import norm"
   ]
  },
  {
   "cell_type": "code",
   "execution_count": 43,
   "metadata": {},
   "outputs": [
    {
     "name": "stdout",
     "output_type": "stream",
     "text": [
      "MLE mean: 160.19332055822323\n",
      "MLE variance: 95.79049897315173\n",
      "MLE variance: 95.79049897315173\n",
      "MLE std: 9.787262077473542\n",
      "Unbiased variance: 95.88638535851024\n",
      "Unbiased variance: 95.88638535851024\n",
      "Unbiased std: 9.792159381796756\n",
      "\n",
      "What height is 95th percentile: 176.44853626951473\n",
      "In which percentile is height=160cm: 0.5\n",
      "What is prob of being taller than 180cm: 0.02275013194817921\n",
      "What is prob of being taller than 180cm: 0.022750131948179195\n"
     ]
    }
   ],
   "source": [
    "np.random.seed(42)\n",
    "\n",
    "mu = 160\n",
    "sd = 10\n",
    "\n",
    "# generate samples from our distribution\n",
    "x = norm.rvs(loc=mu, scale=sd, size=1000)\n",
    "\n",
    "# MLE mean:\n",
    "print(f'MLE mean: {x.mean()}')\n",
    "print(f'MLE variance: {x.var()}')\n",
    "print(f'MLE variance: {((x-x.mean())**2).mean()}')\n",
    "print(f'MLE std: {x.std()}')\n",
    "print(f'Unbiased variance: {x.var(ddof=1)}')\n",
    "print(f'Unbiased variance: {((x-x.mean())**2).sum() / (len(x)-1)}')\n",
    "print(f'Unbiased std: {x.std(ddof=1)}')\n",
    "\n",
    "# percent point function (inverse of cdf)\n",
    "print(f'\\nWhat height is 95th percentile: {norm.ppf(0.95, loc=mu, scale=sd)}')\n",
    "# cumulative density function\n",
    "print(f'In which percentile is height=160cm: {norm.cdf(160, loc=mu, scale=sd)}')\n",
    "# 1 - cdf\n",
    "print(f'What is prob of being taller than 180cm: {1 - norm.cdf(180, loc=mu, scale=sd)}')\n",
    "# same thing, but using \"Survival Function method\"\n",
    "print(f'What is prob of being taller than 180cm: {norm.sf(180, loc=mu, scale=sd)}')\n"
   ]
  }
 ],
 "metadata": {
  "kernelspec": {
   "display_name": "udemy-bayesian-ml",
   "language": "python",
   "name": "python3"
  },
  "language_info": {
   "codemirror_mode": {
    "name": "ipython",
    "version": 3
   },
   "file_extension": ".py",
   "mimetype": "text/x-python",
   "name": "python",
   "nbconvert_exporter": "python",
   "pygments_lexer": "ipython3",
   "version": "3.11.2"
  },
  "orig_nbformat": 4
 },
 "nbformat": 4,
 "nbformat_minor": 2
}
