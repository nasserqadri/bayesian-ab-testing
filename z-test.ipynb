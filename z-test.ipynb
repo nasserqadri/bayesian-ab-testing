{
 "cells": [
  {
   "cell_type": "code",
   "execution_count": 12,
   "metadata": {},
   "outputs": [],
   "source": [
    "import numpy as np\n",
    "from scipy.stats import norm\n",
    "from statsmodels.stats.weightstats import ztest"
   ]
  },
  {
   "attachments": {},
   "cell_type": "markdown",
   "metadata": {},
   "source": [
    "### First do this using statsmodels built-in function"
   ]
  },
  {
   "cell_type": "code",
   "execution_count": 17,
   "metadata": {},
   "outputs": [
    {
     "name": "stdout",
     "output_type": "stream",
     "text": [
      "Testing alt hypothesis: mean does not equal 0\n",
      "Two-sided z-test: (2.5648404153513686, 0.01032232684881584)\n"
     ]
    }
   ],
   "source": [
    "print('Testing alt hypothesis: mean does not equal 0')\n",
    "np.random.seed(0)\n",
    "N=100\n",
    "mu = 0.2\n",
    "sigma = 1\n",
    "x = np.random.randn(N)*sigma + mu\n",
    "\n",
    "print(f'Two-sided z-test: {ztest(x)}')"
   ]
  },
  {
   "attachments": {},
   "cell_type": "markdown",
   "metadata": {},
   "source": [
    "### Now do this manually "
   ]
  },
  {
   "cell_type": "code",
   "execution_count": 14,
   "metadata": {},
   "outputs": [
    {
     "name": "stdout",
     "output_type": "stream",
     "text": [
      "Testing alt hypothesis: mean does not equal 0\n",
      "Z: 2.56484\n",
      "p-value: 0.01032\n"
     ]
    }
   ],
   "source": [
    "print('Testing alt hypothesis: mean does not equal 0')\n",
    "mu_hat = x.mean()\n",
    "sigma_hat = x.std(ddof=1)\n",
    "z = mu_hat / (sigma_hat /np.sqrt(N))\n",
    "p_right = 1 - norm.cdf(np.abs(z))\n",
    "p_left = norm.cdf(-np.abs(z))\n",
    "p=p_right+ p_left\n",
    "print(f'Z: {round(z,5)}\\np-value: {round(p, 5)}')"
   ]
  },
  {
   "attachments": {},
   "cell_type": "markdown",
   "metadata": {},
   "source": [
    "### Now do a one-sided test"
   ]
  },
  {
   "cell_type": "code",
   "execution_count": 26,
   "metadata": {},
   "outputs": [
    {
     "name": "stdout",
     "output_type": "stream",
     "text": [
      "One-sided test: (2.5648404153513686, 0.00516116342440792)\n",
      "Z: 2.56484\n",
      "p-value: 0.00516\n"
     ]
    }
   ],
   "source": [
    "print(f'One-sided test: {ztest(x, alternative=\"larger\")}')\n",
    "\n",
    "# do this manually\n",
    "z = mu_hat / (sigma_hat / np.sqrt(N))\n",
    "p = 1- norm.cdf(z)\n",
    "print(f'Z: {round(z,5)}\\np-value: {round(p, 5)}')"
   ]
  },
  {
   "attachments": {},
   "cell_type": "markdown",
   "metadata": {},
   "source": [
    "#### Use a different reference mean to test against  (instead of mu=0)"
   ]
  },
  {
   "cell_type": "code",
   "execution_count": 32,
   "metadata": {},
   "outputs": [
    {
     "name": "stdout",
     "output_type": "stream",
     "text": [
      "Two-sided Z-test when the mean is the same: (0.5904283402851699, 0.5549035151647227) \n",
      "-- (not significant)\n",
      "\n",
      "Manual calculation is the same:\n",
      "Z: 0.59043\n",
      "p-value: 0.5549\n"
     ]
    }
   ],
   "source": [
    "mu0 = 0.2\n",
    "# calculate this using function\n",
    "print(f'Two-sided Z-test when the mean is the same: {ztest(x, value=mu0)} \\n-- (not significant)')\n",
    "\n",
    "# calculate this manually\n",
    "z = (mu_hat - mu0) / (sigma_hat / np.sqrt(N))\n",
    "p_right = 1 - norm.cdf(np.abs(z))\n",
    "p_left = norm.cdf(-np.abs(z))\n",
    "p = p_right + p_left\n",
    "print(f'\\nManual calculation is the same:\\nZ: {round(z,5)}\\np-value: {round(p, 5)}')"
   ]
  },
  {
   "attachments": {},
   "cell_type": "markdown",
   "metadata": {},
   "source": [
    "### Now do a two-sample test (with two random variables)"
   ]
  },
  {
   "cell_type": "code",
   "execution_count": 88,
   "metadata": {},
   "outputs": [],
   "source": [
    "# first create some synthetic data\n",
    "\n",
    "N0 = 100\n",
    "mu0 = 0.2\n",
    "sigma0 = 1\n",
    "x0 = np.random.randn(N0)*sigma0 + mu0\n",
    "\n",
    "N1 = 100\n",
    "mu1 = 0.5\n",
    "sigma1= 1\n",
    "x1 = np.random.randn(N1)*sigma1 + mu1"
   ]
  },
  {
   "cell_type": "code",
   "execution_count": 89,
   "metadata": {},
   "outputs": [
    {
     "data": {
      "text/plain": [
       "(-2.6980887595703726, 0.006973884360838436)"
      ]
     },
     "execution_count": 89,
     "metadata": {},
     "output_type": "execute_result"
    }
   ],
   "source": [
    "ztest(x0, x1)"
   ]
  },
  {
   "cell_type": "code",
   "execution_count": null,
   "metadata": {},
   "outputs": [],
   "source": []
  }
 ],
 "metadata": {
  "kernelspec": {
   "display_name": "udemy-bayesian-ml",
   "language": "python",
   "name": "python3"
  },
  "language_info": {
   "codemirror_mode": {
    "name": "ipython",
    "version": 3
   },
   "file_extension": ".py",
   "mimetype": "text/x-python",
   "name": "python",
   "nbconvert_exporter": "python",
   "pygments_lexer": "ipython3",
   "version": "3.11.2"
  },
  "orig_nbformat": 4
 },
 "nbformat": 4,
 "nbformat_minor": 2
}
